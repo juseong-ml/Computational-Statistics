{
  "nbformat": 4,
  "nbformat_minor": 0,
  "metadata": {
    "colab": {
      "name": "Monte-Carlo method.ipynb",
      "provenance": []
    },
    "kernelspec": {
      "name": "python3",
      "display_name": "Python 3"
    }
  },
  "cells": [
    {
      "cell_type": "markdown",
      "metadata": {
        "id": "ZIeP13uGVO4f"
      },
      "source": [
        "Numerical Integration(Using  Monte-Carlo method)</font> <br>\n",
        "<br>\n",
        "$$ \\int_{1.96}^\\infty \\frac{1}{\\sqrt{2\\pi}} exp\\left(-\\frac{x^2}{2} \\right) \\, dx $$"
      ]
    },
    {
      "cell_type": "code",
      "metadata": {
        "id": "EuDI1a3RBG9t"
      },
      "source": [
        "import numpy as np\n",
        "import math"
      ],
      "execution_count": 1,
      "outputs": []
    },
    {
      "cell_type": "code",
      "metadata": {
        "id": "SkjgnVHoBKv4"
      },
      "source": [
        "def f(x):\n",
        "  return np.exp(-x*x/2) / (math.sqrt(2 * np.pi))"
      ],
      "execution_count": 2,
      "outputs": []
    },
    {
      "cell_type": "code",
      "metadata": {
        "id": "xrjMH7_4BNgB",
        "outputId": "5e90b016-3751-40b8-927e-96bfe4168b4c",
        "colab": {
          "base_uri": "https://localhost:8080/"
        }
      },
      "source": [
        "a = np.random.uniform(1.96, 6, 10000)\n",
        "\n",
        "sample1 = f(a)\n",
        "intergral1 = sample1.mean()\n",
        "intergral1"
      ],
      "execution_count": 3,
      "outputs": [
        {
          "output_type": "execute_result",
          "data": {
            "text/plain": [
              "0.005961495576429593"
            ]
          },
          "metadata": {
            "tags": []
          },
          "execution_count": 3
        }
      ]
    },
    {
      "cell_type": "code",
      "metadata": {
        "id": "sHo7IbedBPCu"
      },
      "source": [
        ""
      ],
      "execution_count": null,
      "outputs": []
    }
  ]
}