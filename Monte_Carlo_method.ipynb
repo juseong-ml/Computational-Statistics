{
  "nbformat": 4,
  "nbformat_minor": 0,
  "metadata": {
    "colab": {
      "name": "Monte-Carlo method.ipynb",
      "provenance": []
    },
    "kernelspec": {
      "name": "python3",
      "display_name": "Python 3"
    }
  },
  "cells": [
    {
      "cell_type": "markdown",
      "metadata": {
        "id": "ZIeP13uGVO4f"
      },
      "source": [
        "Numerical Integration(Using  Monte-Carlo method)</font> <br>\n",
        "<br>\n",
        "$$ \\int_{1.96}^\\infty \\frac{1}{\\sqrt{2\\pi}} exp\\left(-\\frac{x^2}{2} \\right) \\, dx $$"
      ]
    },
    {
      "cell_type": "code",
      "metadata": {
        "id": "EuDI1a3RBG9t"
      },
      "source": [
        "import numpy as np\n",
        "import math"
      ],
      "execution_count": null,
      "outputs": []
    },
    {
      "cell_type": "code",
      "metadata": {
        "id": "SkjgnVHoBKv4"
      },
      "source": [
        "def f(x):\n",
        "  return np.exp(-x*x/2) / (math.sqrt(2 * np.pi))"
      ],
      "execution_count": null,
      "outputs": []
    },
    {
      "cell_type": "code",
      "metadata": {
        "id": "xrjMH7_4BNgB",
        "outputId": "5e90b016-3751-40b8-927e-96bfe4168b4c",
        "colab": {
          "base_uri": "https://localhost:8080/"
        }
      },
      "source": [
        "a = np.random.uniform(1.96, 6, 10000)\n",
        "\n",
        "sample1 = f(a)\n",
        "intergral1 = sample1.mean()\n",
        "intergral1"
      ],
      "execution_count": null,
      "outputs": [
        {
          "output_type": "execute_result",
          "data": {
            "text/plain": [
              "0.005961495576429593"
            ]
          },
          "metadata": {
            "tags": []
          },
          "execution_count": 3
        }
      ]
    },
    {
      "cell_type": "markdown",
      "metadata": {
        "id": "Oa4Qszg-JCFm"
      },
      "source": [
        "### Crude integral approximations (Monte-Carlo Integration)"
      ]
    },
    {
      "cell_type": "markdown",
      "metadata": {
        "id": "E6dTVqZWmOVw"
      },
      "source": [
        "$$ \\int_0^1 \\int_0^1 \\int_0^1 (a^b-c)\\ da\\ db\\ dc = ?$$\n",
        "$$ The \\ exact \\ result \\ is:\\  ln \\ 2 - \\frac {1}{2} = 0.1931 ... $$"
      ]
    },
    {
      "cell_type": "markdown",
      "metadata": {
        "id": "PXuohr4tmOVw"
      },
      "source": [
        "$$ E(X) = \\int x \\cdot f(x) \\ dx \\approx \\frac {1}{n} \\sum x_i , \\ x_i \\sim f(x) $$\n",
        "$$ \\int_0^1 \\int_0^1 \\int_0^1 (a^b-c)\\ da\\ db\\ dc \\approx\n",
        "\\frac {1}{n} \\sum \\left( {a_i}^{b_i} - c_i \\right) , (a_i , b_i , c_i ) \\sim U(0,1) $$"
      ]
    },
    {
      "cell_type": "code",
      "metadata": {
        "id": "U-_ss0VhI24T",
        "outputId": "bb7ca614-a662-4a20-b4ad-a3f65bff9f58",
        "colab": {
          "base_uri": "https://localhost:8080/"
        }
      },
      "source": [
        "def f(a, b, c):\n",
        "    return a**b - c\n",
        "\n",
        "a = np.random.uniform(0,1,10000)\n",
        "b = np.random.uniform(0,1,10000)\n",
        "c = np.random.uniform(0,1,10000)\n",
        "\n",
        "samples = f(a,b,c)\n",
        "integral = samples.mean()\n",
        "print (\"Approximation:\", integral)"
      ],
      "execution_count": 4,
      "outputs": [
        {
          "output_type": "stream",
          "text": [
            "Approximation: 0.19734398915704107\n"
          ],
          "name": "stdout"
        }
      ]
    },
    {
      "cell_type": "code",
      "metadata": {
        "id": "1uhs9zsWJAby"
      },
      "source": [
        ""
      ],
      "execution_count": null,
      "outputs": []
    }
  ]
}